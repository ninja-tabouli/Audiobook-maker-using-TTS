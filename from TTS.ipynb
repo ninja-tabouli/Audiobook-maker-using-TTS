{
 "cells": [
  {
   "cell_type": "code",
   "execution_count": null,
   "metadata": {},
   "outputs": [],
   "source": [
    "# Imports\n",
    "import os\n",
    "import PyPDF2\n",
    "from TTS.api import TTS\n",
    "from pydub import AudioSegment\n"
   ]
  },
  {
   "cell_type": "code",
   "execution_count": 2,
   "metadata": {},
   "outputs": [],
   "source": [
    "# Initialize file and path\n",
    "pdf_filename = 'name'\n",
    "pdf_path = os.path.expanduser(f'~/audiobooks/{pdf_filename}')\n",
    "input_dir = os.path.expanduser('~/audiobooks/')\n",
    "output_dir = os.path.expanduser('~/audiobooks/')"
   ]
  },
  {
   "cell_type": "code",
   "execution_count": null,
   "metadata": {},
   "outputs": [],
   "source": [
    "# Initialize TTS engine\n",
    "model_name = TTS.list_models()[17] #changing the model might cause problems\n",
    "tts = TTS(model_name)"
   ]
  },
  {
   "cell_type": "code",
   "execution_count": 3,
   "metadata": {},
   "outputs": [],
   "source": [
    "# List to store audio and text segments\n",
    "audio_segments = []\n",
    "cleaned_text_segments = []\n",
    "merged_text = \"\"\n"
   ]
  },
  {
   "cell_type": "code",
   "execution_count": null,
   "metadata": {},
   "outputs": [],
   "source": [
    "# Open and read the PDF\n",
    "with open(pdf_path, \"rb\") as pdf_file:\n",
    "    pdf_reader = PyPDF2.PdfReader(pdf_file)\n",
    "    num_pages = len(pdf_reader.pages)\n",
    "\n",
    "    # Loop through pages and convert text to speech\n",
    "    for num in range(num_pages):\n",
    "        try:\n",
    "            page = pdf_reader.pages[num]\n",
    "            text1 = page.extract_text()\n",
    "\n",
    "            if not text1.strip():\n",
    "                continue\n",
    "\n",
    "            # Remove commas and periods from the extracted text\n",
    "            cleaned_text = text1.replace(',', '').replace('.', '')\n",
    "\n",
    "            # Append the cleaned text to the list of segments\n",
    "            cleaned_text_segments.append(cleaned_text)\n",
    "\n",
    "            # Join the cleaned text segments into a single string\n",
    "            merged_text = ' '.join(cleaned_text_segments)\n",
    "\n",
    "            audio_filename = f'page_{num + 1}.wav'\n",
    "            audio_path = os.path.join(output_dir, audio_filename)\n",
    "            tts.tts_to_file(text=merged_text, speaker=tts.speakers[0], file_path=audio_path, speed=1.5, emotion=\"Happy\")\n",
    "\n",
    "            # Load the audio segment and append to the list\n",
    "            audio_segment = AudioSegment.from_wav(audio_path)\n",
    "            audio_segments.append(audio_segment)\n",
    "\n",
    "            # Clear the lists for the next iteration\n",
    "            cleaned_text_segments.clear()\n",
    "            audio_segments.clear()\n",
    "\n",
    "        except Exception as e:\n",
    "            print(f\"An exception occurred: {e}\")\n",
    "            print(\"Restarting loop from the last index where the error occurred.\")\n",
    "            continue  # Restart the loop from the last index where the error occurred\n"
   ]
  },
  {
   "cell_type": "code",
   "execution_count": 5,
   "metadata": {},
   "outputs": [
    {
     "name": "stdout",
     "output_type": "stream",
     "text": [
      "Merged audio saved to '/home/nijad/audiobooks/merged_audio.wav'.\n"
     ]
    }
   ],
   "source": [
    "# Get a list of all WAV files in the input directory\n",
    "wav_files = [f for f in os.listdir(input_dir) if f.startswith('page_') and f.endswith('.wav')]\n",
    "\n",
    "# Sort the WAV files based on the page numbers in their filenames\n",
    "sorted_wav_files = sorted(wav_files, key=lambda f: int(f.split('_')[1].split('.')[0]))\n",
    "\n",
    "# Load and append audio segments in the sorted order\n",
    "for wav_file in sorted_wav_files:\n",
    "    wav_path = os.path.join(input_dir, wav_file)\n",
    "    audio_segment = AudioSegment.from_wav(wav_path)\n",
    "    audio_segments.append(audio_segment)\n",
    "\n",
    "# Concatenate audio segments into a single audio file\n",
    "merged_audio = AudioSegment.empty()\n",
    "for segment in audio_segments:\n",
    "    merged_audio += segment\n",
    "\n",
    "# Save the merged audio to a file\n",
    "merged_audio_filename = 'merged_audio.wav'\n",
    "merged_audio_path = os.path.join(output_dir, merged_audio_filename)\n",
    "merged_audio.export(merged_audio_path, format='wav')\n",
    "\n",
    "print(f\"Merged audio saved to '{merged_audio_path}'.\")\n"
   ]
  }
 ],
 "metadata": {
  "kernelspec": {
   "display_name": "Python 3",
   "language": "python",
   "name": "python3"
  },
  "language_info": {
   "codemirror_mode": {
    "name": "ipython",
    "version": 3
   },
   "file_extension": ".py",
   "mimetype": "text/x-python",
   "name": "python",
   "nbconvert_exporter": "python",
   "pygments_lexer": "ipython3",
   "version": "3.8.10"
  },
  "orig_nbformat": 4
 },
 "nbformat": 4,
 "nbformat_minor": 2
}
